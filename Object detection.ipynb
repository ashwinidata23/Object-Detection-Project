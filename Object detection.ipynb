{
 "cells": [
  {
   "cell_type": "markdown",
   "id": "77b6af46-5557-4576-b1cc-d4eb990abe6b",
   "metadata": {},
   "source": [
    "# Object Detection in Images and Videos\n",
    "\n",
    "In this project, the goal is to develop a robust object detection system capable of detecting specific objects such as full faces, eyes, full bodies, pedestrians, and vehicles in both static images and video feeds. "
   ]
  },
  {
   "cell_type": "code",
   "execution_count": null,
   "id": "56834aa4-523e-4b98-9cd6-1745400b0667",
   "metadata": {},
   "outputs": [],
   "source": [
    "import cv2\n",
    "import numpy as np"
   ]
  },
  {
   "cell_type": "markdown",
   "id": "964f90ea-db97-48b7-b10f-78898e1d4b0a",
   "metadata": {},
   "source": [
    "### Load/Read image"
   ]
  },
  {
   "cell_type": "code",
   "execution_count": null,
   "id": "1c918956-21f2-49ae-b602-860f21635ed4",
   "metadata": {},
   "outputs": [],
   "source": [
    "img = cv2.imread(r'C:\\Users\\HP\\Desktop\\Dataset\\Notes\\21.Computer Vision\\image_examples\\Modi.jpg')\n",
    "img"
   ]
  },
  {
   "cell_type": "code",
   "execution_count": null,
   "id": "b50c96c8-589a-49e4-8a54-e90794c53e9f",
   "metadata": {},
   "outputs": [],
   "source": [
    "# Shape\n",
    "img.shape"
   ]
  },
  {
   "cell_type": "markdown",
   "id": "f42faeb6-d41d-4836-9069-16b177463c91",
   "metadata": {},
   "source": [
    "### Display the image"
   ]
  },
  {
   "cell_type": "code",
   "execution_count": null,
   "id": "fd2f5dc4-4ed1-452e-907e-94145d1432bd",
   "metadata": {},
   "outputs": [],
   "source": [
    "cv2.imshow('PM',img)               # Give imshow and waitkey together and later give destroy\n",
    "\n",
    "cv2.waitKey(2000)                  # waitkey specify how long you want to keep window open"
   ]
  },
  {
   "cell_type": "code",
   "execution_count": 9,
   "id": "81ead497-a9d4-49bb-943f-e20e55238d66",
   "metadata": {},
   "outputs": [],
   "source": [
    "cv2.destroyAllWindows()"
   ]
  },
  {
   "cell_type": "code",
   "execution_count": 10,
   "id": "5faac506-af59-4078-bd77-81d856581e75",
   "metadata": {},
   "outputs": [],
   "source": [
    "img = cv2.imread(r'C:\\Users\\HP\\Desktop\\Dataset\\Notes\\21.Computer Vision\\image_examples\\Modi.jpg')\n",
    "cv2.imshow('PM',img)\n",
    "cv2.waitKey(2000)\n",
    "cv2.destroyAllWindows()"
   ]
  },
  {
   "cell_type": "markdown",
   "id": "4d228f86-1968-4aeb-959b-3ccb361c0d6e",
   "metadata": {},
   "source": [
    "### Saving the image"
   ]
  },
  {
   "cell_type": "code",
   "execution_count": 11,
   "id": "afac32d9-892e-4593-82a0-677348f38553",
   "metadata": {},
   "outputs": [
    {
     "data": {
      "text/plain": [
       "True"
      ]
     },
     "execution_count": 11,
     "metadata": {},
     "output_type": "execute_result"
    }
   ],
   "source": [
    "cv2.imwrite('pm_b_w.jpg',img)"
   ]
  },
  {
   "cell_type": "markdown",
   "id": "687dfaa5-a1ae-4197-af6c-1e0cefffae8f",
   "metadata": {},
   "source": [
    "### Resize image"
   ]
  },
  {
   "cell_type": "code",
   "execution_count": 12,
   "id": "bb2f158c-9eea-43b5-af5c-88a3283b8e39",
   "metadata": {},
   "outputs": [
    {
     "data": {
      "text/plain": [
       "-1"
      ]
     },
     "execution_count": 12,
     "metadata": {},
     "output_type": "execute_result"
    }
   ],
   "source": [
    "img = cv2.imread(r'C:\\Users\\HP\\Desktop\\Dataset\\Notes\\21.Computer Vision\\image_examples\\Modi.jpg')\n",
    "\n",
    "resized_image = cv2.resize(img,(500,500))\n",
    "\n",
    "gray = cv2.cvtColor(resized_image,cv2.COLOR_BGR2GRAY)\n",
    "\n",
    "cv2.imshow('Modi Image',gray)\n",
    "\n",
    "cv2.waitKey()"
   ]
  },
  {
   "cell_type": "code",
   "execution_count": 13,
   "id": "2e3ed72f-ddbc-4000-8b10-748a7242603e",
   "metadata": {},
   "outputs": [],
   "source": [
    "cv2.destroyAllWindows()"
   ]
  },
  {
   "cell_type": "code",
   "execution_count": 14,
   "id": "2c0499bd-3cb6-48b5-aa7e-08621d39f1e8",
   "metadata": {},
   "outputs": [
    {
     "data": {
      "text/plain": [
       "679.0"
      ]
     },
     "execution_count": 14,
     "metadata": {},
     "output_type": "execute_result"
    }
   ],
   "source": [
    "img.shape[0]*0.5"
   ]
  },
  {
   "cell_type": "code",
   "execution_count": 15,
   "id": "e265c075-fad6-40cb-80fd-09c68c273688",
   "metadata": {},
   "outputs": [
    {
     "data": {
      "text/plain": [
       "750.0"
      ]
     },
     "execution_count": 15,
     "metadata": {},
     "output_type": "execute_result"
    }
   ],
   "source": [
    "img.shape[1]*0.5"
   ]
  },
  {
   "cell_type": "markdown",
   "id": "6a903ed1-0893-4faa-954b-4d4bae3ec3b9",
   "metadata": {},
   "source": [
    "### 1.Full Face Detection using HAAR Cascade Classifiers"
   ]
  },
  {
   "cell_type": "code",
   "execution_count": 16,
   "id": "cfc9cee2-26d1-49b4-9881-21d219873f08",
   "metadata": {},
   "outputs": [
    {
     "data": {
      "text/plain": [
       "< cv2.CascadeClassifier 000001F6689489D0>"
      ]
     },
     "execution_count": 16,
     "metadata": {},
     "output_type": "execute_result"
    }
   ],
   "source": [
    "face_classifier = cv2.CascadeClassifier(r'C:\\Users\\HP\\Desktop\\Dataset\\Notes\\21.Computer Vision\\Haarcascades\\haarcascade_frontalface_default.xml')\n",
    "face_classifier"
   ]
  },
  {
   "cell_type": "code",
   "execution_count": 17,
   "id": "c9f44e10-8019-4bbc-8af6-5b1f84fc53ff",
   "metadata": {},
   "outputs": [],
   "source": [
    "# Loading the image and converting it to grayscale\n",
    "image = cv2.imread(r'C:\\Users\\HP\\Desktop\\Dataset\\Notes\\21.Computer Vision\\image_examples\\Modi.jpg')\n",
    "image = cv2.resize(img,(500,500))\n",
    "gray = cv2.cvtColor(image,cv2.COLOR_BGR2GRAY)"
   ]
  },
  {
   "cell_type": "code",
   "execution_count": 18,
   "id": "ec711729-74f6-47e3-ab6a-7b25fce999b5",
   "metadata": {},
   "outputs": [],
   "source": [
    "faces = face_classifier.detectMultiScale(gray,1.05,5)"
   ]
  },
  {
   "cell_type": "code",
   "execution_count": 19,
   "id": "059e033b-d342-4670-9f97-a1c36ec234fe",
   "metadata": {},
   "outputs": [
    {
     "name": "stdout",
     "output_type": "stream",
     "text": [
      "[[205  79 217 217]]\n"
     ]
    }
   ],
   "source": [
    "print(faces)"
   ]
  },
  {
   "cell_type": "code",
   "execution_count": 20,
   "id": "40eb19c3-995d-4ed7-849f-9fa9a23b4abd",
   "metadata": {},
   "outputs": [
    {
     "name": "stderr",
     "output_type": "stream",
     "text": [
      "<>:1: SyntaxWarning: \"is\" with a literal. Did you mean \"==\"?\n",
      "<>:1: SyntaxWarning: \"is\" with a literal. Did you mean \"==\"?\n",
      "C:\\Users\\HP\\AppData\\Local\\Temp\\ipykernel_20272\\3073521891.py:1: SyntaxWarning: \"is\" with a literal. Did you mean \"==\"?\n",
      "  if faces is ():\n"
     ]
    }
   ],
   "source": [
    "if faces is ():\n",
    "    print('No faces found')\n",
    "\n",
    "for (x,y,w,h) in faces:\n",
    "    cv2.rectangle(image,(x,y),(x+w,x+h),(0,255,100),1)\n",
    "\n",
    "cv2.imshow('Face Detection',image)\n",
    "cv2.waitKey()\n",
    "cv2.destroyAllWindows()"
   ]
  },
  {
   "cell_type": "markdown",
   "id": "0d4b5970-c3ac-4ab3-b6e2-8265009c4492",
   "metadata": {},
   "source": [
    "### 2.Face & Eye detection using using HAAR Cascade Classifiers"
   ]
  },
  {
   "cell_type": "code",
   "execution_count": 21,
   "id": "ecd462b0-8e4e-4818-81d8-091a259df858",
   "metadata": {},
   "outputs": [],
   "source": [
    "face_classifier = cv2.CascadeClassifier(r'C:\\Users\\HP\\Desktop\\Dataset\\Notes\\21.Computer Vision\\Haarcascades\\haarcascade_frontalface_default.xml')\n",
    "eye_classifier = cv2.CascadeClassifier(r'C:\\Users\\HP\\Desktop\\Dataset\\Notes\\21.Computer Vision\\Haarcascades\\haarcascade_eye.xml')\n"
   ]
  },
  {
   "cell_type": "code",
   "execution_count": 22,
   "id": "bb2ee147-4428-40da-9bf1-a8778cca4e6d",
   "metadata": {},
   "outputs": [],
   "source": [
    "# Loading the image and converting it to grayscale\n",
    "image = cv2.imread(r'C:\\Users\\HP\\Desktop\\Dataset\\Notes\\21.Computer Vision\\image_examples\\Modi.jpg')\n",
    "image = cv2.resize(img,(500,500))\n",
    "gray = cv2.cvtColor(image,cv2.COLOR_BGR2GRAY)"
   ]
  },
  {
   "cell_type": "code",
   "execution_count": 23,
   "id": "c1ad6564-bacb-4d3b-852c-9be529f9dd81",
   "metadata": {},
   "outputs": [],
   "source": [
    "faces = face_classifier.detectMultiScale(gray,1.3,5)"
   ]
  },
  {
   "cell_type": "code",
   "execution_count": 24,
   "id": "def006bd-d1f4-4b0c-b397-2b64e1175a0a",
   "metadata": {},
   "outputs": [
    {
     "name": "stderr",
     "output_type": "stream",
     "text": [
      "<>:1: SyntaxWarning: \"is\" with a literal. Did you mean \"==\"?\n",
      "<>:1: SyntaxWarning: \"is\" with a literal. Did you mean \"==\"?\n",
      "C:\\Users\\HP\\AppData\\Local\\Temp\\ipykernel_20272\\1002065433.py:1: SyntaxWarning: \"is\" with a literal. Did you mean \"==\"?\n",
      "  if faces is ():\n"
     ]
    }
   ],
   "source": [
    "if faces is ():\n",
    "    print('No faces found')\n",
    "\n",
    "for (x,y,w,h) in faces:\n",
    "    cv2.rectangle(resized_image,(x,y),(x+w,x+h),(255,0,0),2)\n",
    "    roi_gray = gray[y:y+h,x:x+w]\n",
    "    roi_color = resized_image[y:y+h,x:x+w]\n",
    "    eyes = eye_classifier.detectMultiScale(roi_gray)\n",
    "    for (ex,ey,ew,eh) in eyes:\n",
    "        cv2.rectangle(roi_color,(ex,ey),(ex+ew,ey+eh),(0,255,0),2)\n",
    "\n",
    "cv2.imshow('img',resized_image)\n",
    "cv2.waitKey(0)\n",
    "\n",
    "cv2.destroyAllWindows()"
   ]
  },
  {
   "cell_type": "markdown",
   "id": "d0d493df-2aad-432b-8ff3-5b509ff9491f",
   "metadata": {},
   "source": [
    "### Capture a video"
   ]
  },
  {
   "cell_type": "code",
   "execution_count": 25,
   "id": "2bc4814e-debd-4359-ab00-fd01499611f5",
   "metadata": {},
   "outputs": [],
   "source": [
    "video = cv2.VideoCapture(0)\n",
    "\n",
    "while True:\n",
    "    check,frame = video.read()\n",
    "    gray = cv2.cvtColor(frame,cv2.COLOR_BGR2GRAY)\n",
    "    cv2.imshow('Video',gray)\n",
    "    if cv2.waitKey(1) == ord('q'):\n",
    "        break\n",
    "video.release()\n",
    "cv2.destroyAllWindows()\n",
    "    "
   ]
  },
  {
   "cell_type": "markdown",
   "id": "bcad3779-976a-49ab-ab5c-9518b568cb52",
   "metadata": {},
   "source": [
    "### 3.Face & Eye detection using using HAAR Cascade Classifiers"
   ]
  },
  {
   "cell_type": "code",
   "execution_count": 30,
   "id": "2df7183c-68bb-49b3-907f-53d9b1caa63d",
   "metadata": {},
   "outputs": [],
   "source": [
    "face_cascade = cv2.CascadeClassifier(r'C:\\Users\\HP\\Desktop\\Dataset\\Notes\\21.Computer Vision\\Haarcascades\\haarcascade_frontalface_default.xml')\n",
    "eye_cascade = cv2.CascadeClassifier(r'C:\\Users\\HP\\Desktop\\Dataset\\Notes\\21.Computer Vision\\Haarcascades\\haarcascade_eye.xml')\n",
    "\n",
    "def detect(gray,frame):\n",
    "    faces = face_cascade.detectMultiScale(gray,1.3,5)\n",
    "    for (x,y,w,h) in faces:\n",
    "        cv2.rectangle(frame,(x,y),(x+w,x+h),(255,0,0),2)\n",
    "        roi_gray = gray[y:y+h,x:x+w]\n",
    "        roi_color = frame[y:y+h,x:x+w]\n",
    "        eyes = eye_cascade.detectMultiScale(roi_gray,1.1,3)\n",
    "        for (ex,ey,ew,eh) in eyes:\n",
    "            cv2.rectangle(roi_color,(ex,ey),(ex+ew,ey+eh),(0,255,0),2)\n",
    "    return frame\n",
    "\n",
    "video = cv2.VideoCapture(0)\n",
    "\n",
    "while True:\n",
    "    check,frame = video.read()\n",
    "    gray = cv2.cvtColor(frame,cv2.COLOR_BGR2GRAY)\n",
    "    canvas = detect(gray,frame)\n",
    "    cv2.imshow('Video',canvas)\n",
    "    if cv2.waitKey(1) == ord('q'):\n",
    "        break\n",
    "        \n",
    "video.release()\n",
    "cv2.destroyAllWindows()"
   ]
  },
  {
   "cell_type": "markdown",
   "id": "e4c4e6f1-3ea7-4cef-a736-597173aa6e0f",
   "metadata": {},
   "source": [
    "### 4.Pedestrian Detection"
   ]
  },
  {
   "cell_type": "code",
   "execution_count": 36,
   "id": "5cada37e-cefa-4bf4-b712-5acbff399e17",
   "metadata": {},
   "outputs": [],
   "source": [
    "import cv2\n",
    "# Creating a body classifier\n",
    "body_classifier = cv2.CascadeClassifier(r'C:\\Users\\HP\\Desktop\\Dataset\\Notes\\21.Computer Vision\\Haarcascades\\haarcascade_fullbody.xml')\n",
    "\n",
    "# Initiating video capture for video file\n",
    "cap = cv2.VideoCapture(r'C:\\Users\\HP\\Desktop\\Dataset\\Notes\\21.Computer Vision\\image_examples\\walking.avi')\n",
    "\n",
    "while cap.isOpened():\n",
    "    check,frame = cap.read()\n",
    "    gray =cv2.cvtColor(frame,cv2.COLOR_BGR2GRAY)\n",
    "    bodies = body_classifier.detectMultiScale(gray,1.2,3)\n",
    "\n",
    "    for (x,y,w,h) in bodies:\n",
    "        cv2.rectangle(frame,(x,y),(x+w,x+h),(0,255,255),2)\n",
    "        cv2.imshow('Pedestrians',frame)\n",
    "\n",
    "    if cv2.waitKey(1) ==ord('q'):\n",
    "        break\n",
    "\n",
    "cap.release()\n",
    "cv2.destroyAllWindows()"
   ]
  },
  {
   "cell_type": "markdown",
   "id": "a3e34845-c1f7-428d-8c44-48ec1253b9ad",
   "metadata": {},
   "source": [
    "### 5.Vehicle detection using OpenCV"
   ]
  },
  {
   "cell_type": "code",
   "execution_count": 40,
   "id": "366f5aa1-4d74-4905-b1a0-70a0a856b995",
   "metadata": {},
   "outputs": [],
   "source": [
    "import time\n",
    "\n",
    "# Creating body classifier\n",
    "car_classifier = cv2.CascadeClassifier(r'C:\\Users\\HP\\Desktop\\Dataset\\Notes\\21.Computer Vision\\Haarcascades\\haarcascade_car.xml')\n",
    "\n",
    "cap = cv2.VideoCapture(r'C:\\Users\\HP\\Desktop\\Dataset\\Notes\\21.Computer Vision\\image_examples\\cars.avi')\n",
    "\n",
    "while cap.isOpened():\n",
    "    time.sleep(0.05)\n",
    "    check,frame = cap.read()\n",
    "    gray = cv2.cvtColor(frame,cv2.COLOR_BGR2GRAY)\n",
    "\n",
    "    cars = car_classifier.detectMultiScale(gray,1.4,2)\n",
    "\n",
    "    for (x,y,w,h) in cars:\n",
    "        cv2.rectangle(frame,(x,y),(x+w, x+h),(0,255,255),2)\n",
    "        cv2.imshow('Cars',frame)\n",
    "\n",
    "    if cv2.waitKey(1)==ord('q'):\n",
    "        break\n",
    "\n",
    "cap.release()\n",
    "cv2.destroyAllWindows()"
   ]
  },
  {
   "cell_type": "code",
   "execution_count": null,
   "id": "35fa8bdf-bfe3-478c-ba58-3dfab6e99cf2",
   "metadata": {},
   "outputs": [],
   "source": []
  }
 ],
 "metadata": {
  "kernelspec": {
   "display_name": "Python 3 (ipykernel)",
   "language": "python",
   "name": "python3"
  },
  "language_info": {
   "codemirror_mode": {
    "name": "ipython",
    "version": 3
   },
   "file_extension": ".py",
   "mimetype": "text/x-python",
   "name": "python",
   "nbconvert_exporter": "python",
   "pygments_lexer": "ipython3",
   "version": "3.11.7"
  }
 },
 "nbformat": 4,
 "nbformat_minor": 5
}
